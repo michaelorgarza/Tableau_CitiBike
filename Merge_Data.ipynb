{
 "cells": [
  {
   "cell_type": "code",
   "execution_count": 8,
   "metadata": {},
   "outputs": [],
   "source": [
    "import pandas as pd\n",
    "import datetime as dt"
   ]
  },
  {
   "cell_type": "code",
   "execution_count": 65,
   "metadata": {},
   "outputs": [],
   "source": [
    "# JAN 2018\n",
    "df_j = pd.read_csv('201801-citibike-tripdata.csv')\n",
    "# add weekday column\n",
    "df_j['starttime'] = pd.to_datetime(df_j['starttime'])\n",
    "df_j['starttime'] = pd.to_datetime(df_j['starttime'])\n",
    "df_j['weekday'] =   df_j['starttime'].apply(lambda x: x.weekday())\n"
   ]
  },
  {
   "cell_type": "code",
   "execution_count": 66,
   "metadata": {},
   "outputs": [],
   "source": [
    "# FEB 2018\n",
    "df_f = pd.read_csv('201802-citibike-tripdata.csv')\n",
    "# add weekday column\n",
    "df_f['starttime'] = pd.to_datetime(df_f['starttime'])\n",
    "df_f['starttime'] = pd.to_datetime(df_f['starttime'])\n",
    "df_f['weekday'] =   df_f['starttime'].apply(lambda x: x.weekday())\n"
   ]
  },
  {
   "cell_type": "code",
   "execution_count": 67,
   "metadata": {},
   "outputs": [],
   "source": [
    "# MAR 2018\n",
    "df_m = pd.read_csv('201803-citibike-tripdata.csv')\n",
    "# add weekday column\n",
    "df_m['starttime'] = pd.to_datetime(df_m['starttime'])\n",
    "df_m['starttime'] = pd.to_datetime(df_m['starttime'])\n",
    "df_m['weekday'] =   df_m['starttime'].apply(lambda x: x.weekday())\n"
   ]
  },
  {
   "cell_type": "code",
   "execution_count": 68,
   "metadata": {},
   "outputs": [],
   "source": [
    "# APR 2018\n",
    "df_a = pd.read_csv('201804-citibike-tripdata.csv')\n",
    "# add weekday column\n",
    "df_a['starttime'] = pd.to_datetime(df_a['starttime'])\n",
    "df_a['starttime'] = pd.to_datetime(df_a['starttime'])\n",
    "df_a['weekday'] =   df_a['starttime'].apply(lambda x: x.weekday())"
   ]
  },
  {
   "cell_type": "code",
   "execution_count": 69,
   "metadata": {},
   "outputs": [],
   "source": [
    "# MAY 2018\n",
    "df_may = pd.read_csv('201805-citibike-tripdata.csv')\n",
    "# add weekday column\n",
    "df_may['starttime'] = pd.to_datetime(df_may['starttime'])\n",
    "df_may['starttime'] = pd.to_datetime(df_may['starttime'])\n",
    "df_may['weekday'] =   df_may['starttime'].apply(lambda x: x.weekday())"
   ]
  },
  {
   "cell_type": "code",
   "execution_count": 70,
   "metadata": {},
   "outputs": [],
   "source": [
    "# JUN 2018\n",
    "df_jun = pd.read_csv('201806-citibike-tripdata.csv')\n",
    "# add weekday column\n",
    "df_jun['starttime'] = pd.to_datetime(df_jun['starttime'])\n",
    "df_jun['starttime'] = pd.to_datetime(df_jun['starttime'])\n",
    "df_jun['weekday'] =   df_jun['starttime'].apply(lambda x: x.weekday())"
   ]
  },
  {
   "cell_type": "code",
   "execution_count": 71,
   "metadata": {},
   "outputs": [],
   "source": [
    "# JLY 2018\n",
    "df_jly = pd.read_csv('201807-citibike-tripdata.csv')\n",
    "# add weekday column\n",
    "df_jly['starttime'] = pd.to_datetime(df_jly['starttime'])\n",
    "df_jly['starttime'] = pd.to_datetime(df_jly['starttime'])\n",
    "df_jly['weekday'] =   df_jly['starttime'].apply(lambda x: x.weekday())"
   ]
  },
  {
   "cell_type": "code",
   "execution_count": 72,
   "metadata": {},
   "outputs": [],
   "source": [
    "# AUG 2018\n",
    "df_aug = pd.read_csv('201808-citibike-tripdata.csv')\n",
    "# add weekday column\n",
    "df_aug['starttime'] = pd.to_datetime(df_aug['starttime'])\n",
    "df_aug['starttime'] = pd.to_datetime(df_aug['starttime'])\n",
    "df_aug['weekday'] =   df_aug['starttime'].apply(lambda x: x.weekday())"
   ]
  },
  {
   "cell_type": "code",
   "execution_count": 76,
   "metadata": {},
   "outputs": [
    {
     "data": {
      "text/plain": [
       "(11514938, 16)"
      ]
     },
     "execution_count": 76,
     "metadata": {},
     "output_type": "execute_result"
    }
   ],
   "source": [
    "citi2018 = pd.concat([df_j, df_f, df_m, df_a, df_may, df_jun, df_jly, df_aug])\n",
    "citi2018.shape"
   ]
  },
  {
   "cell_type": "code",
   "execution_count": 77,
   "metadata": {},
   "outputs": [],
   "source": [
    "citi2018.to_csv('citibike2018.csv', sep=',')"
   ]
  },
  {
   "cell_type": "code",
   "execution_count": null,
   "metadata": {},
   "outputs": [],
   "source": []
  }
 ],
 "metadata": {
  "kernelspec": {
   "display_name": "Python 2",
   "language": "python",
   "name": "python2"
  },
  "language_info": {
   "codemirror_mode": {
    "name": "ipython",
    "version": 2
   },
   "file_extension": ".py",
   "mimetype": "text/x-python",
   "name": "python",
   "nbconvert_exporter": "python",
   "pygments_lexer": "ipython2",
   "version": "2.7.15"
  }
 },
 "nbformat": 4,
 "nbformat_minor": 2
}
